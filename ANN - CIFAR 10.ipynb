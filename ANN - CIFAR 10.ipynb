{
 "cells": [
  {
   "cell_type": "markdown",
   "metadata": {},
   "source": [
    "# Projeto Bunitooooo de Redes Neurais BUNITAAAAASSSS"
   ]
  },
  {
   "cell_type": "code",
   "execution_count": 1,
   "metadata": {},
   "outputs": [
    {
     "name": "stderr",
     "output_type": "stream",
     "text": [
      "/home/ubuntu/anaconda3/envs/tensorflow_p36/lib/python3.6/site-packages/matplotlib/font_manager.py:278: UserWarning: Matplotlib is building the font cache using fc-list. This may take a moment.\n",
      "  'Matplotlib is building the font cache using fc-list. '\n"
     ]
    }
   ],
   "source": [
    "import numpy as np\n",
    "import pandas as pd\n",
    "import matplotlib.pyplot as plt\n",
    "\n",
    "import plotly as plty\n",
    "import sklearn as skl\n",
    "\n",
    "import matplotlib.mlab as mlabQ\n",
    "import seaborn as sns\n",
    "\n",
    "from copy import copy as copy\n",
    "from pprint import pprint\n",
    "\n",
    "import sys\n",
    "import os\n",
    "\n",
    "\n",
    "def unpickle(file):\n",
    "    import pickle\n",
    "    with open(file, 'rb') as fo:\n",
    "        dict = pickle.load(fo, encoding='bytes')\n",
    "    return dict"
   ]
  },
  {
   "cell_type": "code",
   "execution_count": 2,
   "metadata": {},
   "outputs": [
    {
     "name": "stderr",
     "output_type": "stream",
     "text": [
      "Using TensorFlow backend.\n"
     ]
    }
   ],
   "source": [
    "import tensorflow as tf\n",
    "import keras"
   ]
  },
  {
   "cell_type": "code",
   "execution_count": 3,
   "metadata": {},
   "outputs": [],
   "source": [
    "ds_path = os.path.abspath(\"./\") + \"/cifar-10-batches-py/\"\n",
    "\n",
    "batch_container = [ None for _ in range(5)]\n",
    "\n",
    "for ii in os.listdir(ds_path):\n",
    "    if \"data\" in ii:\n",
    "        current_id = int(ii[-1]) - 1\n",
    "        batch_container[current_id] = unpickle(ds_path + ii)\n",
    "        \n",
    "        dummy = batch_container[current_id]\n",
    "        kkeys = list(dummy.keys())\n",
    "\n",
    "        for kk in kkeys:\n",
    "            dummy[repr(kk)[2:-1]] = dummy.pop(kk)      "
   ]
  },
  {
   "cell_type": "code",
   "execution_count": 4,
   "metadata": {
    "scrolled": true
   },
   "outputs": [],
   "source": [
    "keys_ids = ['batch_label', 'labels', 'data', 'filenames']"
   ]
  },
  {
   "cell_type": "code",
   "execution_count": 5,
   "metadata": {},
   "outputs": [
    {
     "name": "stdout",
     "output_type": "stream",
     "text": [
      "1\n",
      "b'training batch 1 of 5'\n",
      "10000\n",
      "10000\n",
      "10000\n",
      "2\n",
      "b'training batch 2 of 5'\n",
      "10000\n",
      "10000\n",
      "10000\n",
      "3\n",
      "b'training batch 3 of 5'\n",
      "10000\n",
      "10000\n",
      "10000\n",
      "4\n",
      "b'training batch 4 of 5'\n",
      "10000\n",
      "10000\n",
      "10000\n",
      "5\n",
      "b'training batch 5 of 5'\n",
      "10000\n",
      "10000\n",
      "10000\n"
     ]
    }
   ],
   "source": [
    "for ii in range(5):\n",
    "    print(ii + 1)\n",
    "    print(batch_container[ii][keys_ids[0]])\n",
    "    for keys_ in keys_ids[1:]:\n",
    "        print(len(batch_container[ii][keys_]))"
   ]
  },
  {
   "cell_type": "code",
   "execution_count": 6,
   "metadata": {},
   "outputs": [
    {
     "name": "stdout",
     "output_type": "stream",
     "text": [
      "Downloading data from https://www.cs.toronto.edu/~kriz/cifar-10-python.tar.gz\n",
      "170500096/170498071 [==============================] - 65s 0us/step\n",
      "x_train shape: (50000, 32, 32, 3)\n",
      "50000 train samples\n",
      "10000 test samples\n"
     ]
    }
   ],
   "source": [
    "from keras.datasets import cifar10\n",
    "\n",
    "batch_size = 32\n",
    "num_classes = 10\n",
    "epochs = 100\n",
    "data_augmentation = True\n",
    "num_predictions = 20\n",
    "save_dir = os.path.join(os.getcwd(), 'saved_models')\n",
    "model_name = 'keras_cifar10_trained_model.h5'\n",
    "\n",
    "# The data, split between train and test sets:\n",
    "(x_train, y_train), (x_test, y_test) = cifar10.load_data()\n",
    "print('x_train shape:', x_train.shape)\n",
    "print(x_train.shape[0], 'train samples')\n",
    "print(x_test.shape[0], 'test samples')\n",
    "\n",
    "# Convert class vectors to binary class matrices.\n",
    "y_train = keras.utils.to_categorical(y_train, num_classes)\n",
    "y_test = keras.utils.to_categorical(y_test, num_classes)"
   ]
  },
  {
   "cell_type": "code",
   "execution_count": 7,
   "metadata": {},
   "outputs": [],
   "source": [
    "from keras.models import Sequential\n",
    "from keras.layers import Dense, Conv2D, MaxPooling2D, Dropout, Flatten\n",
    " \n",
    "def createModel(input_shape, nClasses):\n",
    "    model = Sequential()\n",
    "    model.add(Conv2D(32, (3, 3), padding='same', activation='relu', input_shape=input_shape))\n",
    "    model.add(Conv2D(32, (3, 3), activation='relu'))\n",
    "    model.add(MaxPooling2D(pool_size=(2, 2)))\n",
    "    model.add(Dropout(0.25))\n",
    " \n",
    "    model.add(Conv2D(64, (3, 3), padding='same', activation='relu'))\n",
    "    model.add(Conv2D(64, (3, 3), activation='relu'))\n",
    "    model.add(MaxPooling2D(pool_size=(2, 2)))\n",
    "    model.add(Dropout(0.25))\n",
    " \n",
    "    model.add(Conv2D(64, (3, 3), padding='same', activation='relu'))\n",
    "    model.add(Conv2D(64, (3, 3), activation='relu'))\n",
    "    model.add(MaxPooling2D(pool_size=(2, 2)))\n",
    "    model.add(Dropout(0.25))\n",
    " \n",
    "    model.add(Flatten())\n",
    "    model.add(Dense(512, activation='relu'))\n",
    "    model.add(Dropout(0.5))\n",
    "    model.add(Dense(nClasses, activation='softmax'))\n",
    "     \n",
    "    return model"
   ]
  },
  {
   "cell_type": "code",
   "execution_count": 8,
   "metadata": {},
   "outputs": [
    {
     "name": "stdout",
     "output_type": "stream",
     "text": [
      "Train on 50000 samples, validate on 10000 samples\n",
      "Epoch 1/50\n",
      "50000/50000 [==============================] - 19s 383us/step - loss: 2.3129 - acc: 0.2047 - val_loss: 1.9555 - val_acc: 0.2871\n",
      "Epoch 2/50\n",
      "50000/50000 [==============================] - 16s 327us/step - loss: 1.8058 - acc: 0.3456 - val_loss: 2.5133 - val_acc: 0.1940\n",
      "Epoch 3/50\n",
      "50000/50000 [==============================] - 16s 328us/step - loss: 1.6090 - acc: 0.4229 - val_loss: 1.6807 - val_acc: 0.4317\n",
      "Epoch 4/50\n",
      "50000/50000 [==============================] - 16s 327us/step - loss: 1.4571 - acc: 0.4820 - val_loss: 1.2980 - val_acc: 0.5481\n",
      "Epoch 5/50\n",
      "50000/50000 [==============================] - 16s 329us/step - loss: 1.3336 - acc: 0.5292 - val_loss: 1.2268 - val_acc: 0.5736\n",
      "Epoch 6/50\n",
      "50000/50000 [==============================] - 16s 324us/step - loss: 1.2455 - acc: 0.5623 - val_loss: 1.2523 - val_acc: 0.5674\n",
      "Epoch 7/50\n",
      "50000/50000 [==============================] - 17s 333us/step - loss: 1.1909 - acc: 0.5819 - val_loss: 1.0483 - val_acc: 0.6465\n",
      "Epoch 8/50\n",
      "50000/50000 [==============================] - 17s 333us/step - loss: 1.1129 - acc: 0.6103 - val_loss: 1.1561 - val_acc: 0.5903\n",
      "Epoch 9/50\n",
      "50000/50000 [==============================] - 19s 373us/step - loss: 1.0702 - acc: 0.6271 - val_loss: 1.0242 - val_acc: 0.6352\n",
      "Epoch 10/50\n",
      "50000/50000 [==============================] - 17s 335us/step - loss: 1.0236 - acc: 0.6429 - val_loss: 1.0017 - val_acc: 0.6512\n",
      "Epoch 11/50\n",
      "50000/50000 [==============================] - 16s 328us/step - loss: 0.9946 - acc: 0.6531 - val_loss: 1.1551 - val_acc: 0.6036\n",
      "Epoch 12/50\n",
      "50000/50000 [==============================] - 17s 333us/step - loss: 0.9559 - acc: 0.6685 - val_loss: 0.9636 - val_acc: 0.6742\n",
      "Epoch 13/50\n",
      "50000/50000 [==============================] - 17s 331us/step - loss: 0.9365 - acc: 0.6780 - val_loss: 0.9452 - val_acc: 0.6795\n",
      "Epoch 14/50\n",
      "50000/50000 [==============================] - 16s 329us/step - loss: 0.9013 - acc: 0.6869 - val_loss: 0.8593 - val_acc: 0.7067\n",
      "Epoch 15/50\n",
      "50000/50000 [==============================] - 17s 335us/step - loss: 0.8867 - acc: 0.6920 - val_loss: 1.0597 - val_acc: 0.6496\n",
      "Epoch 16/50\n",
      "50000/50000 [==============================] - 16s 329us/step - loss: 0.8690 - acc: 0.6994 - val_loss: 0.9113 - val_acc: 0.6925\n",
      "Epoch 17/50\n",
      "50000/50000 [==============================] - 17s 334us/step - loss: 0.8489 - acc: 0.7061 - val_loss: 0.8235 - val_acc: 0.7244\n",
      "Epoch 18/50\n",
      "50000/50000 [==============================] - 16s 328us/step - loss: 0.8391 - acc: 0.7123 - val_loss: 0.8719 - val_acc: 0.7101\n",
      "Epoch 19/50\n",
      "50000/50000 [==============================] - 16s 330us/step - loss: 0.8239 - acc: 0.7172 - val_loss: 0.8576 - val_acc: 0.7097\n",
      "Epoch 20/50\n",
      "50000/50000 [==============================] - 19s 381us/step - loss: 0.8133 - acc: 0.7223 - val_loss: 0.8301 - val_acc: 0.7145\n",
      "Epoch 21/50\n",
      "50000/50000 [==============================] - 16s 328us/step - loss: 0.8046 - acc: 0.7255 - val_loss: 0.8485 - val_acc: 0.7044\n",
      "Epoch 22/50\n",
      "50000/50000 [==============================] - 16s 327us/step - loss: 0.7951 - acc: 0.7279 - val_loss: 0.7720 - val_acc: 0.7379\n",
      "Epoch 23/50\n",
      "50000/50000 [==============================] - 17s 337us/step - loss: 0.7858 - acc: 0.7335 - val_loss: 0.9695 - val_acc: 0.6885\n",
      "Epoch 24/50\n",
      "50000/50000 [==============================] - 17s 330us/step - loss: 0.7793 - acc: 0.7327 - val_loss: 0.7672 - val_acc: 0.7422\n",
      "Epoch 25/50\n",
      "50000/50000 [==============================] - 17s 330us/step - loss: 0.7757 - acc: 0.7372 - val_loss: 0.8357 - val_acc: 0.7230\n",
      "Epoch 26/50\n",
      "50000/50000 [==============================] - 17s 339us/step - loss: 0.7670 - acc: 0.7406 - val_loss: 0.8679 - val_acc: 0.7016\n",
      "Epoch 27/50\n",
      "50000/50000 [==============================] - 16s 328us/step - loss: 0.7628 - acc: 0.7407 - val_loss: 0.8551 - val_acc: 0.7235\n",
      "Epoch 28/50\n",
      "50000/50000 [==============================] - 17s 335us/step - loss: 0.7670 - acc: 0.7395 - val_loss: 0.8041 - val_acc: 0.7434\n",
      "Epoch 29/50\n",
      "50000/50000 [==============================] - 17s 346us/step - loss: 0.7587 - acc: 0.7453 - val_loss: 0.7573 - val_acc: 0.7474\n",
      "Epoch 30/50\n",
      "50000/50000 [==============================] - 17s 330us/step - loss: 0.7713 - acc: 0.7404 - val_loss: 0.7746 - val_acc: 0.7406\n",
      "Epoch 31/50\n",
      "50000/50000 [==============================] - 19s 377us/step - loss: 0.7570 - acc: 0.7490 - val_loss: 0.8285 - val_acc: 0.7219\n",
      "Epoch 32/50\n",
      "50000/50000 [==============================] - 17s 336us/step - loss: 0.7569 - acc: 0.7490 - val_loss: 0.8368 - val_acc: 0.7359\n",
      "Epoch 33/50\n",
      "50000/50000 [==============================] - 16s 329us/step - loss: 0.7554 - acc: 0.7488 - val_loss: 0.7559 - val_acc: 0.7544\n",
      "Epoch 34/50\n",
      "50000/50000 [==============================] - 17s 332us/step - loss: 0.7484 - acc: 0.7516 - val_loss: 0.7658 - val_acc: 0.7459\n",
      "Epoch 35/50\n",
      "50000/50000 [==============================] - 17s 342us/step - loss: 0.7484 - acc: 0.7502 - val_loss: 0.7404 - val_acc: 0.7615\n",
      "Epoch 36/50\n",
      "50000/50000 [==============================] - 17s 330us/step - loss: 0.7550 - acc: 0.7483 - val_loss: 0.7987 - val_acc: 0.7470\n",
      "Epoch 37/50\n",
      "50000/50000 [==============================] - 17s 331us/step - loss: 0.7526 - acc: 0.7504 - val_loss: 0.8627 - val_acc: 0.7184\n",
      "Epoch 38/50\n",
      "50000/50000 [==============================] - 17s 340us/step - loss: 0.7523 - acc: 0.7507 - val_loss: 0.7677 - val_acc: 0.7452\n",
      "Epoch 39/50\n",
      "50000/50000 [==============================] - 17s 336us/step - loss: 0.7489 - acc: 0.7524 - val_loss: 0.8685 - val_acc: 0.7185\n",
      "Epoch 40/50\n",
      "50000/50000 [==============================] - 17s 331us/step - loss: 0.7572 - acc: 0.7490 - val_loss: 0.7850 - val_acc: 0.7477\n",
      "Epoch 41/50\n",
      "50000/50000 [==============================] - 19s 384us/step - loss: 0.7606 - acc: 0.7482 - val_loss: 0.7634 - val_acc: 0.7549\n",
      "Epoch 42/50\n",
      "50000/50000 [==============================] - 17s 338us/step - loss: 0.7474 - acc: 0.7513 - val_loss: 0.7806 - val_acc: 0.7515\n",
      "Epoch 43/50\n",
      "50000/50000 [==============================] - 17s 332us/step - loss: 0.7583 - acc: 0.7502 - val_loss: 0.7359 - val_acc: 0.7552\n",
      "Epoch 44/50\n",
      "50000/50000 [==============================] - 17s 337us/step - loss: 0.7486 - acc: 0.7518 - val_loss: 0.8540 - val_acc: 0.7167\n",
      "Epoch 45/50\n",
      "50000/50000 [==============================] - 17s 338us/step - loss: 0.7641 - acc: 0.7477 - val_loss: 0.8310 - val_acc: 0.7307\n",
      "Epoch 46/50\n",
      "50000/50000 [==============================] - 17s 334us/step - loss: 0.7649 - acc: 0.7508 - val_loss: 0.8845 - val_acc: 0.7070\n",
      "Epoch 47/50\n",
      "50000/50000 [==============================] - 17s 331us/step - loss: 0.7550 - acc: 0.7504 - val_loss: 0.8039 - val_acc: 0.7398\n",
      "Epoch 48/50\n",
      "50000/50000 [==============================] - 17s 340us/step - loss: 0.7583 - acc: 0.7523 - val_loss: 0.7422 - val_acc: 0.7527\n",
      "Epoch 49/50\n",
      "50000/50000 [==============================] - 17s 337us/step - loss: 0.7587 - acc: 0.7503 - val_loss: 0.7780 - val_acc: 0.7487\n",
      "Epoch 50/50\n",
      "50000/50000 [==============================] - 17s 332us/step - loss: 0.7694 - acc: 0.7497 - val_loss: 0.7370 - val_acc: 0.7575\n",
      "10000/10000 [==============================] - 2s 170us/step\n"
     ]
    },
    {
     "data": {
      "text/plain": [
       "[0.7369507873535156, 0.7575]"
      ]
     },
     "execution_count": 8,
     "metadata": {},
     "output_type": "execute_result"
    }
   ],
   "source": [
    "model1 = createModel(x_train.shape[1:], 10)\n",
    "\n",
    "batch_size = 256\n",
    "epochs = 50\n",
    "\n",
    "model1.compile(optimizer='rmsprop', loss='categorical_crossentropy', metrics=['accuracy'])\n",
    " \n",
    "history = model1.fit(x_train, y_train, batch_size=batch_size, epochs=epochs, verbose=1, \n",
    "                   validation_data=(x_test, y_test))\n",
    " \n",
    "model1.evaluate(x_test, y_test)"
   ]
  },
  {
   "cell_type": "code",
   "execution_count": 9,
   "metadata": {},
   "outputs": [
    {
     "data": {
      "text/plain": [
       "Text(0.5,1,'Accuracy Curves')"
      ]
     },
     "execution_count": 9,
     "metadata": {},
     "output_type": "execute_result"
    },
    {
     "data": {
      "image/png": "[encoded data removed]",
      "text/plain": [
       "<Figure size 576x432 with 1 Axes>"
      ]
     },
     "metadata": {},
     "output_type": "display_data"
    },
    {
     "data": {
      "image/png": "[encoded data removed]",
      "text/plain": [
       "<Figure size 576x432 with 1 Axes>"
      ]
     },
     "metadata": {},
     "output_type": "display_data"
    }
   ],
   "source": [
    "# Loss Curves\n",
    "plt.figure(figsize=[8,6])\n",
    "plt.plot(history.history['loss'],'r',linewidth=3.0)\n",
    "plt.plot(history.history['val_loss'],'b',linewidth=3.0)\n",
    "plt.legend(['Training loss', 'Validation Loss'],fontsize=18)\n",
    "plt.xlabel('Epochs ',fontsize=16)\n",
    "plt.ylabel('Loss',fontsize=16)\n",
    "plt.title('Loss Curves',fontsize=16)\n",
    " \n",
    "# Accuracy Curves\n",
    "plt.figure(figsize=[8,6])\n",
    "plt.plot(history.history['acc'],'r',linewidth=3.0)\n",
    "plt.plot(history.history['val_acc'],'b',linewidth=3.0)\n",
    "plt.legend(['Training Accuracy', 'Validation Accuracy'],fontsize=18)\n",
    "plt.xlabel('Epochs ',fontsize=16)\n",
    "plt.ylabel('Accuracy',fontsize=16)\n",
    "plt.title('Accuracy Curves',fontsize=16)"
   ]
  },
  {
   "cell_type": "code",
   "execution_count": 10,
   "metadata": {},
   "outputs": [
    {
     "data": {
      "text/plain": [
       "'\\nfrom __future__ import print_function\\nimport keras\\nfrom keras.datasets import cifar10\\n\\nfrom keras.preprocessing.image import ImageDataGenerator\\nfrom keras.models import Sequential\\nfrom keras.layers import Dense, Dropout, Activation, Flatten\\nfrom keras.layers import Conv2D, MaxPooling2D\\nimport os\\n\\nbatch_size = 32\\nnum_classes = 10\\nepochs = 100\\ndata_augmentation = True\\nnum_predictions = 20\\nsave_dir = os.path.join(os.getcwd(), \\'saved_models\\')\\nmodel_name = \\'keras_cifar10_trained_model.h5\\'\\n\\n# The data, split between train and test sets:\\n(x_train, y_train), (x_test, y_test) = cifar10.load_data()\\nprint(\\'x_train shape:\\', x_train.shape)\\nprint(x_train.shape[0], \\'train samples\\')\\nprint(x_test.shape[0], \\'test samples\\')\\n\\n# Convert class vectors to binary class matrices.\\ny_train = keras.utils.to_categorical(y_train, num_classes)\\ny_test = keras.utils.to_categorical(y_test, num_classes)\\n\\nmodel = Sequential()\\nmodel.add(Conv2D(32, (3, 3), padding=\\'same\\',\\n                 input_shape=x_train.shape[1:]))\\nmodel.add(Activation(\\'relu\\'))\\nmodel.add(Conv2D(32, (3, 3)))\\nmodel.add(Activation(\\'relu\\'))\\nmodel.add(MaxPooling2D(pool_size=(2, 2)))\\nmodel.add(Dropout(0.25))\\n\\nmodel.add(Conv2D(64, (3, 3), padding=\\'same\\'))\\nmodel.add(Activation(\\'relu\\'))\\nmodel.add(Conv2D(64, (3, 3)))\\nmodel.add(Activation(\\'relu\\'))\\nmodel.add(MaxPooling2D(pool_size=(2, 2)))\\nmodel.add(Dropout(0.25))\\n\\nmodel.add(Flatten())\\nmodel.add(Dense(512))\\nmodel.add(Activation(\\'relu\\'))\\nmodel.add(Dropout(0.5))\\nmodel.add(Dense(num_classes))\\nmodel.add(Activation(\\'softmax\\'))\\n\\n# initiate RMSprop optimizer\\nopt = keras.optimizers.rmsprop(lr=0.0001, decay=1e-6)\\n\\n# Let\\'s train the model using RMSprop\\nmodel.compile(loss=\\'categorical_crossentropy\\',\\n              optimizer=opt,\\n              metrics=[\\'accuracy\\'])\\n\\nx_train = x_train.astype(\\'float32\\')\\nx_test = x_test.astype(\\'float32\\')\\nx_train /= 255\\nx_test /= 255\\n\\nif not data_augmentation:\\n    print(\\'Not using data augmentation.\\')\\n    model.fit(x_train, y_train,\\n              batch_size=batch_size,\\n              epochs=epochs,\\n              validation_data=(x_test, y_test),\\n              shuffle=True)\\nelse:\\n    print(\\'Using real-time data augmentation.\\')\\n    # This will do preprocessing and realtime data augmentation:\\n    datagen = ImageDataGenerator(\\n        featurewise_center=False,  # set input mean to 0 over the dataset\\n        samplewise_center=False,  # set each sample mean to 0\\n        featurewise_std_normalization=False,  # divide inputs by std of the dataset\\n        samplewise_std_normalization=False,  # divide each input by its std\\n        zca_whitening=False,  # apply ZCA whitening\\n        zca_epsilon=1e-06,  # epsilon for ZCA whitening\\n        rotation_range=0,  # randomly rotate images in the range (degrees, 0 to 180)\\n        # randomly shift images horizontally (fraction of total width)\\n        width_shift_range=0.1,\\n        # randomly shift images vertically (fraction of total height)\\n        height_shift_range=0.1,\\n        shear_range=0.,  # set range for random shear\\n        zoom_range=0.,  # set range for random zoom\\n        channel_shift_range=0.,  # set range for random channel shifts\\n        # set mode for filling points outside the input boundaries\\n        fill_mode=\\'nearest\\',\\n        cval=0.,  # value used for fill_mode = \"constant\"\\n        horizontal_flip=True,  # randomly flip images\\n        vertical_flip=False,  # randomly flip images\\n        # set rescaling factor (applied before any other transformation)\\n        rescale=None,\\n        # set function that will be applied on each input\\n        preprocessing_function=None,\\n        # image data format, either \"channels_first\" or \"channels_last\"\\n        data_format=None,\\n        # fraction of images reserved for validation (strictly between 0 and 1)\\n        validation_split=0.0)\\n\\n    # Compute quantities required for feature-wise normalization\\n    # (std, mean, and principal components if ZCA whitening is applied).\\n    datagen.fit(x_train)\\n\\n    # Fit the model on the batches generated by datagen.flow().\\n    model.fit_generator(datagen.flow(x_train, y_train,\\n                                     batch_size=batch_size),\\n                        epochs=epochs,\\n                        validation_data=(x_test, y_test),\\n                        workers=4)\\n\\n# Save model and weights\\nif not os.path.isdir(save_dir):\\n    os.makedirs(save_dir)\\nmodel_path = os.path.join(save_dir, model_name)\\nmodel.save(model_path)\\nprint(\\'Saved trained model at %s \\' % model_path)\\n\\n# Score trained model.\\nscores = model.evaluate(x_test, y_test, verbose=1)\\nprint(\\'Test loss:\\', scores[0])\\nprint(\\'Test accuracy:\\', scores[1])\\n'"
      ]
     },
     "execution_count": 10,
     "metadata": {},
     "output_type": "execute_result"
    }
   ],
   "source": [
    "''''Train a simple deep CNN on the CIFAR10 small images dataset.\n",
    "It gets to 75% validation accuracy in 25 epochs, and 79% after 50 epochs.\n",
    "(it's still underfitting at that point, though).\n",
    "'''\n",
    "\"\"\"\n",
    "from __future__ import print_function\n",
    "import keras\n",
    "from keras.datasets import cifar10\n",
    "\n",
    "from keras.preprocessing.image import ImageDataGenerator\n",
    "from keras.models import Sequential\n",
    "from keras.layers import Dense, Dropout, Activation, Flatten\n",
    "from keras.layers import Conv2D, MaxPooling2D\n",
    "import os\n",
    "\n",
    "batch_size = 32\n",
    "num_classes = 10\n",
    "epochs = 100\n",
    "data_augmentation = True\n",
    "num_predictions = 20\n",
    "save_dir = os.path.join(os.getcwd(), 'saved_models')\n",
    "model_name = 'keras_cifar10_trained_model.h5'\n",
    "\n",
    "# The data, split between train and test sets:\n",
    "(x_train, y_train), (x_test, y_test) = cifar10.load_data()\n",
    "print('x_train shape:', x_train.shape)\n",
    "print(x_train.shape[0], 'train samples')\n",
    "print(x_test.shape[0], 'test samples')\n",
    "\n",
    "# Convert class vectors to binary class matrices.\n",
    "y_train = keras.utils.to_categorical(y_train, num_classes)\n",
    "y_test = keras.utils.to_categorical(y_test, num_classes)\n",
    "\n",
    "model = Sequential()\n",
    "model.add(Conv2D(32, (3, 3), padding='same',\n",
    "                 input_shape=x_train.shape[1:]))\n",
    "model.add(Activation('relu'))\n",
    "model.add(Conv2D(32, (3, 3)))\n",
    "model.add(Activation('relu'))\n",
    "model.add(MaxPooling2D(pool_size=(2, 2)))\n",
    "model.add(Dropout(0.25))\n",
    "\n",
    "model.add(Conv2D(64, (3, 3), padding='same'))\n",
    "model.add(Activation('relu'))\n",
    "model.add(Conv2D(64, (3, 3)))\n",
    "model.add(Activation('relu'))\n",
    "model.add(MaxPooling2D(pool_size=(2, 2)))\n",
    "model.add(Dropout(0.25))\n",
    "\n",
    "model.add(Flatten())\n",
    "model.add(Dense(512))\n",
    "model.add(Activation('relu'))\n",
    "model.add(Dropout(0.5))\n",
    "model.add(Dense(num_classes))\n",
    "model.add(Activation('softmax'))\n",
    "\n",
    "# initiate RMSprop optimizer\n",
    "opt = keras.optimizers.rmsprop(lr=0.0001, decay=1e-6)\n",
    "\n",
    "# Let's train the model using RMSprop\n",
    "model.compile(loss='categorical_crossentropy',\n",
    "              optimizer=opt,\n",
    "              metrics=['accuracy'])\n",
    "\n",
    "x_train = x_train.astype('float32')\n",
    "x_test = x_test.astype('float32')\n",
    "x_train /= 255\n",
    "x_test /= 255\n",
    "\n",
    "if not data_augmentation:\n",
    "    print('Not using data augmentation.')\n",
    "    model.fit(x_train, y_train,\n",
    "              batch_size=batch_size,\n",
    "              epochs=epochs,\n",
    "              validation_data=(x_test, y_test),\n",
    "              shuffle=True)\n",
    "else:\n",
    "    print('Using real-time data augmentation.')\n",
    "    # This will do preprocessing and realtime data augmentation:\n",
    "    datagen = ImageDataGenerator(\n",
    "        featurewise_center=False,  # set input mean to 0 over the dataset\n",
    "        samplewise_center=False,  # set each sample mean to 0\n",
    "        featurewise_std_normalization=False,  # divide inputs by std of the dataset\n",
    "        samplewise_std_normalization=False,  # divide each input by its std\n",
    "        zca_whitening=False,  # apply ZCA whitening\n",
    "        zca_epsilon=1e-06,  # epsilon for ZCA whitening\n",
    "        rotation_range=0,  # randomly rotate images in the range (degrees, 0 to 180)\n",
    "        # randomly shift images horizontally (fraction of total width)\n",
    "        width_shift_range=0.1,\n",
    "        # randomly shift images vertically (fraction of total height)\n",
    "        height_shift_range=0.1,\n",
    "        shear_range=0.,  # set range for random shear\n",
    "        zoom_range=0.,  # set range for random zoom\n",
    "        channel_shift_range=0.,  # set range for random channel shifts\n",
    "        # set mode for filling points outside the input boundaries\n",
    "        fill_mode='nearest',\n",
    "        cval=0.,  # value used for fill_mode = \"constant\"\n",
    "        horizontal_flip=True,  # randomly flip images\n",
    "        vertical_flip=False,  # randomly flip images\n",
    "        # set rescaling factor (applied before any other transformation)\n",
    "        rescale=None,\n",
    "        # set function that will be applied on each input\n",
    "        preprocessing_function=None,\n",
    "        # image data format, either \"channels_first\" or \"channels_last\"\n",
    "        data_format=None,\n",
    "        # fraction of images reserved for validation (strictly between 0 and 1)\n",
    "        validation_split=0.0)\n",
    "\n",
    "    # Compute quantities required for feature-wise normalization\n",
    "    # (std, mean, and principal components if ZCA whitening is applied).\n",
    "    datagen.fit(x_train)\n",
    "\n",
    "    # Fit the model on the batches generated by datagen.flow().\n",
    "    model.fit_generator(datagen.flow(x_train, y_train,\n",
    "                                     batch_size=batch_size),\n",
    "                        epochs=epochs,\n",
    "                        validation_data=(x_test, y_test),\n",
    "                        workers=4)\n",
    "\n",
    "# Save model and weights\n",
    "if not os.path.isdir(save_dir):\n",
    "    os.makedirs(save_dir)\n",
    "model_path = os.path.join(save_dir, model_name)\n",
    "model.save(model_path)\n",
    "print('Saved trained model at %s ' % model_path)\n",
    "\n",
    "# Score trained model.\n",
    "scores = model.evaluate(x_test, y_test, verbose=1)\n",
    "print('Test loss:', scores[0])\n",
    "print('Test accuracy:', scores[1])\n",
    "\"\"\""
   ]
  },
  {
   "cell_type": "code",
   "execution_count": null,
   "metadata": {},
   "outputs": [],
   "source": []
  }
 ],
 "metadata": {
  "kernelspec": {
   "display_name": "Environment (conda_tensorflow_p36)",
   "language": "python",
   "name": "conda_tensorflow_p36"
  },
  "language_info": {
   "codemirror_mode": {
    "name": "ipython",
    "version": 3
   },
   "file_extension": ".py",
   "mimetype": "text/x-python",
   "name": "python",
   "nbconvert_exporter": "python",
   "pygments_lexer": "ipython3",
   "version": "3.6.5"
  }
 },
 "nbformat": 4,
 "nbformat_minor": 2
}
